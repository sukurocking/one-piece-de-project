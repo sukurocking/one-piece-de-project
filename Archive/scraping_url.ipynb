{
 "cells": [
  {
   "cell_type": "code",
   "execution_count": 1,
   "id": "9b82f9db",
   "metadata": {},
   "outputs": [],
   "source": [
    "from bs4 import BeautifulSoup\n",
    "import requests"
   ]
  },
  {
   "cell_type": "code",
   "execution_count": 2,
   "id": "5b7127c0",
   "metadata": {},
   "outputs": [],
   "source": [
    "my_url = \"https://www.ratingraph.com/tv-shows/one-piece-ratings-17673/\"\n",
    "\n",
    "response = requests.get(my_url)\n",
    "soup = BeautifulSoup(response.text, 'html.parser')\n",
    "table = soup.find('table')"
   ]
  },
  {
   "cell_type": "code",
   "execution_count": 3,
   "id": "7964124d",
   "metadata": {},
   "outputs": [
    {
     "name": "stdout",
     "output_type": "stream",
     "text": [
      "['354 / 26,383']\n",
      "['40,258']\n",
      "['Animation, Action, Adventure']\n",
      "['1']\n",
      "['1,077']\n",
      "['1,643,757']\n",
      "['1,526']\n",
      "['8.0 / 10']\n"
     ]
    }
   ],
   "source": [
    "rows = table.find_all('tr')\n",
    "for row in rows:\n",
    "    columns = row.find_all('td')\n",
    "    print([col.text for col in columns])"
   ]
  },
  {
   "cell_type": "code",
   "execution_count": 4,
   "id": "9ecd8dd0",
   "metadata": {},
   "outputs": [
    {
     "name": "stdout",
     "output_type": "stream",
     "text": [
      "<class 'bs4.BeautifulSoup'>\n"
     ]
    }
   ],
   "source": [
    "print(type(soup))"
   ]
  },
  {
   "cell_type": "code",
   "execution_count": 18,
   "id": "6187312c",
   "metadata": {},
   "outputs": [],
   "source": [
    "with open(\"html_response_context.txt\", \"w\") as myfile:\n",
    "    myfile.write(str(soup))"
   ]
  },
  {
   "cell_type": "code",
   "execution_count": 17,
   "id": "1d23cbd3",
   "metadata": {},
   "outputs": [
    {
     "data": {
      "text/plain": [
       "[<table class=\"show\">\n",
       " <tr>\n",
       " <th>Rank</th>\n",
       " <td>354 <span>/ 26,383</span></td>\n",
       " </tr>\n",
       " <tr>\n",
       " <th>Trend</th>\n",
       " <td>40,258</td>\n",
       " </tr>\n",
       " <tr>\n",
       " <th>Genres</th>\n",
       " <td>Animation, Action, Adventure</td>\n",
       " </tr>\n",
       " <tr>\n",
       " <th>Seasons</th>\n",
       " <td>1</td>\n",
       " </tr>\n",
       " <tr>\n",
       " <th>Episodes</th>\n",
       " <td>1,077</td>\n",
       " </tr>\n",
       " <tr>\n",
       " <th>Total votes</th>\n",
       " <td>1,643,757</td>\n",
       " </tr>\n",
       " <tr>\n",
       " <th>Average votes</th>\n",
       " <td>1,526</td>\n",
       " </tr>\n",
       " <tr>\n",
       " <th>Average rating</th>\n",
       " <td>8.0 <span>/ 10</span></td>\n",
       " </tr>\n",
       " </table>,\n",
       " <table class=\"display responsive\" data-url=\"https://www.ratingraph.com/show-episodes-list/17673/\" id=\"episodes\"></table>]"
      ]
     },
     "execution_count": 17,
     "metadata": {},
     "output_type": "execute_result"
    }
   ],
   "source": [
    "tables = soup.find_all('table')\n",
    "tables"
   ]
  },
  {
   "cell_type": "code",
   "execution_count": 15,
   "id": "dab706c7",
   "metadata": {},
   "outputs": [],
   "source": [
    "# Find the table by its class\n",
    "table = soup.find('table', {'class': ''})\n",
    "# table = soup.find('table', {'class': 'table table-bordered table-striped table-hover'})\n",
    "# /html/body/div/main/section/div[8]/div/div[1]/div[1]/div/table"
   ]
  },
  {
   "cell_type": "code",
   "execution_count": 16,
   "id": "8f21eeb6",
   "metadata": {},
   "outputs": [
    {
     "name": "stdout",
     "output_type": "stream",
     "text": [
      "<class 'bs4.element.Tag'>\n"
     ]
    }
   ],
   "source": [
    "print(type(table))"
   ]
  },
  {
   "cell_type": "code",
   "execution_count": 12,
   "id": "f1f2e4a1",
   "metadata": {},
   "outputs": [
    {
     "ename": "AttributeError",
     "evalue": "'NoneType' object has no attribute 'find_all'",
     "output_type": "error",
     "traceback": [
      "\u001b[0;31m---------------------------------------------------------------------------\u001b[0m",
      "\u001b[0;31mAttributeError\u001b[0m                            Traceback (most recent call last)",
      "Cell \u001b[0;32mIn[12], line 2\u001b[0m\n\u001b[1;32m      1\u001b[0m \u001b[38;5;66;03m# Extract the table data and print it\u001b[39;00m\n\u001b[0;32m----> 2\u001b[0m \u001b[38;5;28;01mfor\u001b[39;00m row \u001b[38;5;129;01min\u001b[39;00m \u001b[43mtable\u001b[49m\u001b[38;5;241;43m.\u001b[39;49m\u001b[43mfind_all\u001b[49m(\u001b[38;5;124m'\u001b[39m\u001b[38;5;124mtr\u001b[39m\u001b[38;5;124m'\u001b[39m):\n\u001b[1;32m      3\u001b[0m     cells \u001b[38;5;241m=\u001b[39m row\u001b[38;5;241m.\u001b[39mfind_all(\u001b[38;5;124m'\u001b[39m\u001b[38;5;124mtd\u001b[39m\u001b[38;5;124m'\u001b[39m)\n\u001b[1;32m      4\u001b[0m     \u001b[38;5;28;01mif\u001b[39;00m cells:\n",
      "\u001b[0;31mAttributeError\u001b[0m: 'NoneType' object has no attribute 'find_all'"
     ]
    }
   ],
   "source": [
    "# Extract the table data and print it\n",
    "for row in table.find_all('tr'):\n",
    "    cells = row.find_all('td')\n",
    "    if cells:\n",
    "        print(cells[0].get_text(), cells[1].get_text(), cells[2].get_text())\n",
    "        \n",
    "#         //*[@id=\"episodes_wrapper\"]/div[1]/div[1]/div/table"
   ]
  },
  {
   "cell_type": "code",
   "execution_count": null,
   "id": "5344bfc3",
   "metadata": {},
   "outputs": [],
   "source": []
  }
 ],
 "metadata": {
  "kernelspec": {
   "display_name": "Python 3 (ipykernel)",
   "language": "python",
   "name": "python3"
  },
  "language_info": {
   "codemirror_mode": {
    "name": "ipython",
    "version": 3
   },
   "file_extension": ".py",
   "mimetype": "text/x-python",
   "name": "python",
   "nbconvert_exporter": "python",
   "pygments_lexer": "ipython3",
   "version": "3.8.16"
  }
 },
 "nbformat": 4,
 "nbformat_minor": 5
}
